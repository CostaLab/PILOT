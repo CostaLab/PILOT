{
 "cells": [
  {
   "cell_type": "code",
   "execution_count": 6,
   "id": "6c64accc",
   "metadata": {},
   "outputs": [
    {
     "name": "stdout",
     "output_type": "stream",
     "text": [
      "Processing /home/mehdi/Desktop/Data/Mehdi/Git_PILOT/costalab/PILOT\n",
      "  Preparing metadata (setup.py) ... \u001b[?25ldone\n",
      "\u001b[?25hRequirement already satisfied: cycler in /home/mehdi/anaconda3/envs/PILOT/lib/python3.11/site-packages (from PILOT==1.1.0) (0.11.0)\n",
      "Requirement already satisfied: joypy in /home/mehdi/anaconda3/envs/PILOT/lib/python3.11/site-packages (from PILOT==1.1.0) (0.2.6)\n",
      "Requirement already satisfied: leidenalg in /home/mehdi/anaconda3/envs/PILOT/lib/python3.11/site-packages (from PILOT==1.1.0) (0.10.1)\n",
      "Requirement already satisfied: numpy in /home/mehdi/anaconda3/envs/PILOT/lib/python3.11/site-packages (from PILOT==1.1.0) (1.24.4)\n",
      "Requirement already satisfied: matplotlib in /home/mehdi/anaconda3/envs/PILOT/lib/python3.11/site-packages (from PILOT==1.1.0) (3.7.2)\n",
      "Requirement already satisfied: pandas in /home/mehdi/anaconda3/envs/PILOT/lib/python3.11/site-packages (from PILOT==1.1.0) (2.0.3)\n",
      "Requirement already satisfied: plotly in /home/mehdi/anaconda3/envs/PILOT/lib/python3.11/site-packages (from PILOT==1.1.0) (5.15.0)\n",
      "Requirement already satisfied: plotnine in /home/mehdi/anaconda3/envs/PILOT/lib/python3.11/site-packages (from PILOT==1.1.0) (0.12.2)\n",
      "Requirement already satisfied: POT in /home/mehdi/anaconda3/envs/PILOT/lib/python3.11/site-packages (from PILOT==1.1.0) (0.9.0)\n",
      "Requirement already satisfied: pydiffmap in /home/mehdi/anaconda3/envs/PILOT/lib/python3.11/site-packages (from PILOT==1.1.0) (0.2.0.1)\n",
      "Requirement already satisfied: scanpy in /home/mehdi/anaconda3/envs/PILOT/lib/python3.11/site-packages (from PILOT==1.1.0) (1.9.3)\n",
      "Requirement already satisfied: scikit_learn in /home/mehdi/anaconda3/envs/PILOT/lib/python3.11/site-packages (from PILOT==1.1.0) (1.3.0)\n",
      "Requirement already satisfied: scikit_network in /home/mehdi/anaconda3/envs/PILOT/lib/python3.11/site-packages (from PILOT==1.1.0) (0.31.0)\n",
      "Requirement already satisfied: scipy in /home/mehdi/anaconda3/envs/PILOT/lib/python3.11/site-packages (from PILOT==1.1.0) (1.11.1)\n",
      "Requirement already satisfied: seaborn in /home/mehdi/anaconda3/envs/PILOT/lib/python3.11/site-packages (from PILOT==1.1.0) (0.12.2)\n",
      "Requirement already satisfied: shap in /home/mehdi/anaconda3/envs/PILOT/lib/python3.11/site-packages (from PILOT==1.1.0) (0.42.1)\n",
      "Requirement already satisfied: statsmodels in /home/mehdi/anaconda3/envs/PILOT/lib/python3.11/site-packages (from PILOT==1.1.0) (0.14.0)\n",
      "Requirement already satisfied: elpigraph-python in /home/mehdi/anaconda3/envs/PILOT/lib/python3.11/site-packages (from PILOT==1.1.0) (0.3.1)\n",
      "Requirement already satisfied: adjustText in /home/mehdi/anaconda3/envs/PILOT/lib/python3.11/site-packages (from PILOT==1.1.0) (0.8)\n",
      "Requirement already satisfied: gprofiler-official in /home/mehdi/anaconda3/envs/PILOT/lib/python3.11/site-packages (from PILOT==1.1.0) (1.0.0)\n",
      "Requirement already satisfied: numba>=0.49.1 in /home/mehdi/anaconda3/envs/PILOT/lib/python3.11/site-packages (from elpigraph-python->PILOT==1.1.0) (0.57.1)\n",
      "Requirement already satisfied: python-igraph>=0.7.1 in /home/mehdi/anaconda3/envs/PILOT/lib/python3.11/site-packages (from elpigraph-python->PILOT==1.1.0) (0.10.6)\n",
      "Requirement already satisfied: networkx>=2.0 in /home/mehdi/anaconda3/envs/PILOT/lib/python3.11/site-packages (from elpigraph-python->PILOT==1.1.0) (3.1)\n",
      "Requirement already satisfied: shapely in /home/mehdi/anaconda3/envs/PILOT/lib/python3.11/site-packages (from elpigraph-python->PILOT==1.1.0) (2.0.1)\n",
      "Requirement already satisfied: python-dateutil>=2.8.2 in /home/mehdi/anaconda3/envs/PILOT/lib/python3.11/site-packages (from pandas->PILOT==1.1.0) (2.8.2)\n",
      "Requirement already satisfied: pytz>=2020.1 in /home/mehdi/anaconda3/envs/PILOT/lib/python3.11/site-packages (from pandas->PILOT==1.1.0) (2023.3)\n",
      "Requirement already satisfied: tzdata>=2022.1 in /home/mehdi/anaconda3/envs/PILOT/lib/python3.11/site-packages (from pandas->PILOT==1.1.0) (2023.3)\n",
      "Requirement already satisfied: joblib>=1.1.1 in /home/mehdi/anaconda3/envs/PILOT/lib/python3.11/site-packages (from scikit_learn->PILOT==1.1.0) (1.3.1)\n",
      "Requirement already satisfied: threadpoolctl>=2.0.0 in /home/mehdi/anaconda3/envs/PILOT/lib/python3.11/site-packages (from scikit_learn->PILOT==1.1.0) (3.2.0)\n",
      "Requirement already satisfied: requests in /home/mehdi/anaconda3/envs/PILOT/lib/python3.11/site-packages (from gprofiler-official->PILOT==1.1.0) (2.31.0)\n",
      "Requirement already satisfied: igraph<0.11,>=0.10.0 in /home/mehdi/anaconda3/envs/PILOT/lib/python3.11/site-packages (from leidenalg->PILOT==1.1.0) (0.10.6)\n",
      "Requirement already satisfied: contourpy>=1.0.1 in /home/mehdi/anaconda3/envs/PILOT/lib/python3.11/site-packages (from matplotlib->PILOT==1.1.0) (1.1.0)\n",
      "Requirement already satisfied: fonttools>=4.22.0 in /home/mehdi/anaconda3/envs/PILOT/lib/python3.11/site-packages (from matplotlib->PILOT==1.1.0) (4.42.0)\n",
      "Requirement already satisfied: kiwisolver>=1.0.1 in /home/mehdi/anaconda3/envs/PILOT/lib/python3.11/site-packages (from matplotlib->PILOT==1.1.0) (1.4.4)\n",
      "Requirement already satisfied: packaging>=20.0 in /home/mehdi/anaconda3/envs/PILOT/lib/python3.11/site-packages (from matplotlib->PILOT==1.1.0) (23.0)\n",
      "Requirement already satisfied: pillow>=6.2.0 in /home/mehdi/anaconda3/envs/PILOT/lib/python3.11/site-packages (from matplotlib->PILOT==1.1.0) (10.0.0)\n",
      "Requirement already satisfied: pyparsing<3.1,>=2.3.1 in /home/mehdi/anaconda3/envs/PILOT/lib/python3.11/site-packages (from matplotlib->PILOT==1.1.0) (3.0.9)\n",
      "Requirement already satisfied: tenacity>=6.2.0 in /home/mehdi/anaconda3/envs/PILOT/lib/python3.11/site-packages (from plotly->PILOT==1.1.0) (8.2.2)\n",
      "Requirement already satisfied: mizani<0.10.0,>0.9.0 in /home/mehdi/anaconda3/envs/PILOT/lib/python3.11/site-packages (from plotnine->PILOT==1.1.0) (0.9.2)\n",
      "Requirement already satisfied: patsy>=0.5.1 in /home/mehdi/anaconda3/envs/PILOT/lib/python3.11/site-packages (from plotnine->PILOT==1.1.0) (0.5.3)\n",
      "Requirement already satisfied: six in /home/mehdi/anaconda3/envs/PILOT/lib/python3.11/site-packages (from pydiffmap->PILOT==1.1.0) (1.16.0)\n",
      "Requirement already satisfied: numexpr in /home/mehdi/anaconda3/envs/PILOT/lib/python3.11/site-packages (from pydiffmap->PILOT==1.1.0) (2.8.4)\n",
      "Requirement already satisfied: anndata>=0.7.4 in /home/mehdi/anaconda3/envs/PILOT/lib/python3.11/site-packages (from scanpy->PILOT==1.1.0) (0.9.2)\n",
      "Requirement already satisfied: h5py>=3 in /home/mehdi/anaconda3/envs/PILOT/lib/python3.11/site-packages (from scanpy->PILOT==1.1.0) (3.9.0)\n",
      "Requirement already satisfied: tqdm in /home/mehdi/anaconda3/envs/PILOT/lib/python3.11/site-packages (from scanpy->PILOT==1.1.0) (4.65.0)\n",
      "Requirement already satisfied: natsort in /home/mehdi/anaconda3/envs/PILOT/lib/python3.11/site-packages (from scanpy->PILOT==1.1.0) (8.4.0)\n",
      "Requirement already satisfied: umap-learn>=0.3.10 in /home/mehdi/anaconda3/envs/PILOT/lib/python3.11/site-packages (from scanpy->PILOT==1.1.0) (0.5.3)\n",
      "Requirement already satisfied: session-info in /home/mehdi/anaconda3/envs/PILOT/lib/python3.11/site-packages (from scanpy->PILOT==1.1.0) (1.0.0)\n",
      "Requirement already satisfied: slicer==0.0.7 in /home/mehdi/anaconda3/envs/PILOT/lib/python3.11/site-packages (from shap->PILOT==1.1.0) (0.0.7)\n",
      "Requirement already satisfied: cloudpickle in /home/mehdi/anaconda3/envs/PILOT/lib/python3.11/site-packages (from shap->PILOT==1.1.0) (2.2.1)\n",
      "Requirement already satisfied: texttable>=1.6.2 in /home/mehdi/anaconda3/envs/PILOT/lib/python3.11/site-packages (from igraph<0.11,>=0.10.0->leidenalg->PILOT==1.1.0) (1.6.7)\n",
      "Requirement already satisfied: llvmlite<0.41,>=0.40.0dev0 in /home/mehdi/anaconda3/envs/PILOT/lib/python3.11/site-packages (from numba>=0.49.1->elpigraph-python->PILOT==1.1.0) (0.40.1)\n",
      "Requirement already satisfied: pynndescent>=0.5 in /home/mehdi/anaconda3/envs/PILOT/lib/python3.11/site-packages (from umap-learn>=0.3.10->scanpy->PILOT==1.1.0) (0.5.10)\n",
      "Requirement already satisfied: charset-normalizer<4,>=2 in /home/mehdi/anaconda3/envs/PILOT/lib/python3.11/site-packages (from requests->gprofiler-official->PILOT==1.1.0) (2.0.4)\n",
      "Requirement already satisfied: idna<4,>=2.5 in /home/mehdi/anaconda3/envs/PILOT/lib/python3.11/site-packages (from requests->gprofiler-official->PILOT==1.1.0) (3.4)\n",
      "Requirement already satisfied: urllib3<3,>=1.21.1 in /home/mehdi/anaconda3/envs/PILOT/lib/python3.11/site-packages (from requests->gprofiler-official->PILOT==1.1.0) (1.26.16)\n",
      "Requirement already satisfied: certifi>=2017.4.17 in /home/mehdi/anaconda3/envs/PILOT/lib/python3.11/site-packages (from requests->gprofiler-official->PILOT==1.1.0) (2023.7.22)\n"
     ]
    },
    {
     "name": "stdout",
     "output_type": "stream",
     "text": [
      "Requirement already satisfied: stdlib-list in /home/mehdi/anaconda3/envs/PILOT/lib/python3.11/site-packages (from session-info->scanpy->PILOT==1.1.0) (0.9.0)\n",
      "Building wheels for collected packages: PILOT\n",
      "  Building wheel for PILOT (setup.py) ... \u001b[?25ldone\n",
      "\u001b[?25h  Created wheel for PILOT: filename=PILOT-1.1.0-py3-none-any.whl size=56559 sha256=a98f01ddf43f62ee1f3d2bbc2f6763a639f1a51a2d2b5c25c66e87df14e85b3b\n",
      "  Stored in directory: /tmp/pip-ephem-wheel-cache-ae7v0ovh/wheels/59/3f/22/552654d482b3407f5cb262784ec589508b03694bac2dd35bd9\n",
      "Successfully built PILOT\n",
      "Installing collected packages: PILOT\n",
      "  Attempting uninstall: PILOT\n",
      "    Found existing installation: PILOT 1.1.0\n",
      "    Uninstalling PILOT-1.1.0:\n",
      "      Successfully uninstalled PILOT-1.1.0\n",
      "Successfully installed PILOT-1.1.0\n",
      "Note: you may need to restart the kernel to use updated packages.\n"
     ]
    }
   ],
   "source": [
    "pip install ."
   ]
  },
  {
   "cell_type": "code",
   "execution_count": 7,
   "id": "b118e7e9",
   "metadata": {},
   "outputs": [],
   "source": [
    "from PILOT import *"
   ]
  },
  {
   "cell_type": "code",
   "execution_count": null,
   "id": "69f0a338",
   "metadata": {},
   "outputs": [],
   "source": []
  }
 ],
 "metadata": {
  "kernelspec": {
   "display_name": "Python 3 (ipykernel)",
   "language": "python",
   "name": "python3"
  },
  "language_info": {
   "codemirror_mode": {
    "name": "ipython",
    "version": 3
   },
   "file_extension": ".py",
   "mimetype": "text/x-python",
   "name": "python",
   "nbconvert_exporter": "python",
   "pygments_lexer": "ipython3",
   "version": "3.11.4"
  }
 },
 "nbformat": 4,
 "nbformat_minor": 5
}
