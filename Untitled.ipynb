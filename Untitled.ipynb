{
 "cells": [
  {
   "cell_type": "code",
   "execution_count": 11,
   "id": "106d25c0",
   "metadata": {},
   "outputs": [
    {
     "name": "stdout",
     "output_type": "stream",
     "text": [
      "Processing /home/mehdi/Desktop/Data/Mehdi/Git_PILOT/costalab/PILOT\n",
      "  Preparing metadata (setup.py) ... \u001b[?25ldone\n",
      "\u001b[?25hRequirement already satisfied: cycler in /home/mehdi/anaconda3/envs/test_pilot/lib/python3.10/site-packages (from PILOT==0.1.1) (0.11.0)\n",
      "Requirement already satisfied: gprofiler-official==0.3.5 in /home/mehdi/anaconda3/envs/test_pilot/lib/python3.10/site-packages (from PILOT==0.1.1) (0.3.5)\n",
      "Requirement already satisfied: joypy in /home/mehdi/anaconda3/envs/test_pilot/lib/python3.10/site-packages (from PILOT==0.1.1) (0.2.6)\n",
      "Requirement already satisfied: leidenalg in /home/mehdi/anaconda3/envs/test_pilot/lib/python3.10/site-packages (from PILOT==0.1.1) (0.9.0)\n",
      "Requirement already satisfied: numpy in /home/mehdi/anaconda3/envs/test_pilot/lib/python3.10/site-packages (from PILOT==0.1.1) (1.23.5)\n",
      "Requirement already satisfied: matplotlib in /home/mehdi/anaconda3/envs/test_pilot/lib/python3.10/site-packages (from PILOT==0.1.1) (3.6.2)\n",
      "Requirement already satisfied: pandas in /home/mehdi/anaconda3/envs/test_pilot/lib/python3.10/site-packages (from PILOT==0.1.1) (1.3.5)\n",
      "Requirement already satisfied: plotly in /home/mehdi/anaconda3/envs/test_pilot/lib/python3.10/site-packages (from PILOT==0.1.1) (5.11.0)\n",
      "Requirement already satisfied: plotnine in /home/mehdi/anaconda3/envs/test_pilot/lib/python3.10/site-packages (from PILOT==0.1.1) (0.10.1)\n",
      "Requirement already satisfied: POT in /home/mehdi/anaconda3/envs/test_pilot/lib/python3.10/site-packages (from PILOT==0.1.1) (0.8.2)\n",
      "Requirement already satisfied: pydiffmap in /home/mehdi/anaconda3/envs/test_pilot/lib/python3.10/site-packages (from PILOT==0.1.1) (0.2.0.1)\n",
      "Requirement already satisfied: scanpy in /home/mehdi/anaconda3/envs/test_pilot/lib/python3.10/site-packages (from PILOT==0.1.1) (1.9.1)\n",
      "Requirement already satisfied: scikit_learn in /home/mehdi/anaconda3/envs/test_pilot/lib/python3.10/site-packages (from PILOT==0.1.1) (1.2.0)\n",
      "Requirement already satisfied: scikit_network in /home/mehdi/anaconda3/envs/test_pilot/lib/python3.10/site-packages (from PILOT==0.1.1) (0.28.2)\n",
      "Requirement already satisfied: scipy in /home/mehdi/anaconda3/envs/test_pilot/lib/python3.10/site-packages (from PILOT==0.1.1) (1.9.3)\n",
      "Requirement already satisfied: seaborn in /home/mehdi/anaconda3/envs/test_pilot/lib/python3.10/site-packages (from PILOT==0.1.1) (0.12.1)\n",
      "Requirement already satisfied: shap in /home/mehdi/anaconda3/envs/test_pilot/lib/python3.10/site-packages (from PILOT==0.1.1) (0.41.0)\n",
      "Requirement already satisfied: statsmodels in /home/mehdi/anaconda3/envs/test_pilot/lib/python3.10/site-packages (from PILOT==0.1.1) (0.13.5)\n",
      "Requirement already satisfied: elpigraph-python in /home/mehdi/anaconda3/envs/test_pilot/lib/python3.10/site-packages (from PILOT==0.1.1) (0.3.1)\n",
      "Requirement already satisfied: python-igraph>=0.7.1 in /home/mehdi/anaconda3/envs/test_pilot/lib/python3.10/site-packages (from elpigraph-python->PILOT==0.1.1) (0.10.4)\n",
      "Requirement already satisfied: shapely in /home/mehdi/anaconda3/envs/test_pilot/lib/python3.10/site-packages (from elpigraph-python->PILOT==0.1.1) (2.0.1)\n",
      "Requirement already satisfied: networkx>=2.0 in /home/mehdi/anaconda3/envs/test_pilot/lib/python3.10/site-packages (from elpigraph-python->PILOT==0.1.1) (2.8.8)\n",
      "Requirement already satisfied: numba>=0.49.1 in /home/mehdi/anaconda3/envs/test_pilot/lib/python3.10/site-packages (from elpigraph-python->PILOT==0.1.1) (0.56.4)\n",
      "Requirement already satisfied: python-dateutil>=2.7.3 in /home/mehdi/anaconda3/envs/test_pilot/lib/python3.10/site-packages (from pandas->PILOT==0.1.1) (2.8.2)\n",
      "Requirement already satisfied: pytz>=2017.3 in /home/mehdi/anaconda3/envs/test_pilot/lib/python3.10/site-packages (from pandas->PILOT==0.1.1) (2022.6)\n",
      "Requirement already satisfied: joblib>=1.1.1 in /home/mehdi/anaconda3/envs/test_pilot/lib/python3.10/site-packages (from scikit_learn->PILOT==0.1.1) (1.2.0)\n",
      "Requirement already satisfied: threadpoolctl>=2.0.0 in /home/mehdi/anaconda3/envs/test_pilot/lib/python3.10/site-packages (from scikit_learn->PILOT==0.1.1) (3.1.0)\n",
      "Requirement already satisfied: igraph<0.11,>=0.10.0 in /home/mehdi/anaconda3/envs/test_pilot/lib/python3.10/site-packages (from leidenalg->PILOT==0.1.1) (0.10.4)\n",
      "Requirement already satisfied: contourpy>=1.0.1 in /home/mehdi/anaconda3/envs/test_pilot/lib/python3.10/site-packages (from matplotlib->PILOT==0.1.1) (1.0.6)\n",
      "Requirement already satisfied: fonttools>=4.22.0 in /home/mehdi/anaconda3/envs/test_pilot/lib/python3.10/site-packages (from matplotlib->PILOT==0.1.1) (4.38.0)\n",
      "Requirement already satisfied: packaging>=20.0 in /home/mehdi/anaconda3/envs/test_pilot/lib/python3.10/site-packages (from matplotlib->PILOT==0.1.1) (22.0)\n",
      "Requirement already satisfied: pillow>=6.2.0 in /home/mehdi/anaconda3/envs/test_pilot/lib/python3.10/site-packages (from matplotlib->PILOT==0.1.1) (9.3.0)\n",
      "Requirement already satisfied: pyparsing>=2.2.1 in /home/mehdi/anaconda3/envs/test_pilot/lib/python3.10/site-packages (from matplotlib->PILOT==0.1.1) (3.0.9)\n",
      "Requirement already satisfied: kiwisolver>=1.0.1 in /home/mehdi/anaconda3/envs/test_pilot/lib/python3.10/site-packages (from matplotlib->PILOT==0.1.1) (1.4.4)\n",
      "Requirement already satisfied: tenacity>=6.2.0 in /home/mehdi/anaconda3/envs/test_pilot/lib/python3.10/site-packages (from plotly->PILOT==0.1.1) (8.1.0)\n",
      "Requirement already satisfied: patsy>=0.5.1 in /home/mehdi/anaconda3/envs/test_pilot/lib/python3.10/site-packages (from plotnine->PILOT==0.1.1) (0.5.3)\n",
      "Requirement already satisfied: mizani>=0.8.1 in /home/mehdi/anaconda3/envs/test_pilot/lib/python3.10/site-packages (from plotnine->PILOT==0.1.1) (0.8.1)\n",
      "Requirement already satisfied: numexpr in /home/mehdi/anaconda3/envs/test_pilot/lib/python3.10/site-packages (from pydiffmap->PILOT==0.1.1) (2.8.4)\n",
      "Requirement already satisfied: six in /home/mehdi/anaconda3/envs/test_pilot/lib/python3.10/site-packages (from pydiffmap->PILOT==0.1.1) (1.16.0)\n",
      "Requirement already satisfied: tqdm in /home/mehdi/anaconda3/envs/test_pilot/lib/python3.10/site-packages (from scanpy->PILOT==0.1.1) (4.64.1)\n",
      "Requirement already satisfied: natsort in /home/mehdi/anaconda3/envs/test_pilot/lib/python3.10/site-packages (from scanpy->PILOT==0.1.1) (8.2.0)\n",
      "Requirement already satisfied: session-info in /home/mehdi/anaconda3/envs/test_pilot/lib/python3.10/site-packages (from scanpy->PILOT==0.1.1) (1.0.0)\n",
      "Requirement already satisfied: h5py>=3 in /home/mehdi/anaconda3/envs/test_pilot/lib/python3.10/site-packages (from scanpy->PILOT==0.1.1) (3.7.0)\n",
      "Requirement already satisfied: anndata>=0.7.4 in /home/mehdi/anaconda3/envs/test_pilot/lib/python3.10/site-packages (from scanpy->PILOT==0.1.1) (0.8.0)\n",
      "Requirement already satisfied: umap-learn>=0.3.10 in /home/mehdi/anaconda3/envs/test_pilot/lib/python3.10/site-packages (from scanpy->PILOT==0.1.1) (0.5.3)\n",
      "Requirement already satisfied: slicer==0.0.7 in /home/mehdi/anaconda3/envs/test_pilot/lib/python3.10/site-packages (from shap->PILOT==0.1.1) (0.0.7)\n",
      "Requirement already satisfied: cloudpickle in /home/mehdi/anaconda3/envs/test_pilot/lib/python3.10/site-packages (from shap->PILOT==0.1.1) (2.2.0)\n",
      "Requirement already satisfied: texttable>=1.6.2 in /home/mehdi/anaconda3/envs/test_pilot/lib/python3.10/site-packages (from igraph<0.11,>=0.10.0->leidenalg->PILOT==0.1.1) (1.6.7)\n",
      "Requirement already satisfied: palettable in /home/mehdi/anaconda3/envs/test_pilot/lib/python3.10/site-packages (from mizani>=0.8.1->plotnine->PILOT==0.1.1) (3.3.0)\n",
      "Requirement already satisfied: setuptools in /home/mehdi/anaconda3/envs/test_pilot/lib/python3.10/site-packages (from numba>=0.49.1->elpigraph-python->PILOT==0.1.1) (61.2.0)\n",
      "Requirement already satisfied: llvmlite<0.40,>=0.39.0dev0 in /home/mehdi/anaconda3/envs/test_pilot/lib/python3.10/site-packages (from numba>=0.49.1->elpigraph-python->PILOT==0.1.1) (0.39.1)\n",
      "Requirement already satisfied: pynndescent>=0.5 in /home/mehdi/anaconda3/envs/test_pilot/lib/python3.10/site-packages (from umap-learn>=0.3.10->scanpy->PILOT==0.1.1) (0.5.8)\n",
      "Requirement already satisfied: stdlib-list in /home/mehdi/anaconda3/envs/test_pilot/lib/python3.10/site-packages (from session-info->scanpy->PILOT==0.1.1) (0.8.0)\n",
      "Building wheels for collected packages: PILOT\n"
     ]
    },
    {
     "name": "stdout",
     "output_type": "stream",
     "text": [
      "  Building wheel for PILOT (setup.py) ... \u001b[?25ldone\n",
      "\u001b[?25h  Created wheel for PILOT: filename=PILOT-0.1.1-py3-none-any.whl size=34382 sha256=c3e249c686e5787bacda5143755af17918fbdbf55c92d1bf89b798f01bd28ae6\n",
      "  Stored in directory: /tmp/pip-ephem-wheel-cache-3uvaqkpd/wheels/4e/31/e0/16124cde8afeb8b9f358f17681f4c66c0a5c8db892e232fa8a\n",
      "Successfully built PILOT\n",
      "Installing collected packages: PILOT\n",
      "  Attempting uninstall: PILOT\n",
      "    Found existing installation: PILOT 0.1.1\n",
      "    Uninstalling PILOT-0.1.1:\n",
      "      Successfully uninstalled PILOT-0.1.1\n",
      "Successfully installed PILOT-0.1.1\n"
     ]
    }
   ],
   "source": [
    "!pip install ."
   ]
  },
  {
   "cell_type": "code",
   "execution_count": null,
   "id": "0866e3bf",
   "metadata": {},
   "outputs": [],
   "source": []
  }
 ],
 "metadata": {
  "kernelspec": {
   "display_name": "Python 3 (ipykernel)",
   "language": "python",
   "name": "python3"
  },
  "language_info": {
   "codemirror_mode": {
    "name": "ipython",
    "version": 3
   },
   "file_extension": ".py",
   "mimetype": "text/x-python",
   "name": "python",
   "nbconvert_exporter": "python",
   "pygments_lexer": "ipython3",
   "version": "3.10.4"
  }
 },
 "nbformat": 4,
 "nbformat_minor": 5
}
